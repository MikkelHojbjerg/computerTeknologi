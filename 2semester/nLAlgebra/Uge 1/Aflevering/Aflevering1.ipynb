{
 "cells": [
  {
   "cell_type": "code",
   "execution_count": 1,
   "metadata": {},
   "outputs": [],
   "source": [
    "import matplotlib.pyplot as plt\n",
    "import numpy as np"
   ]
  },
  {
   "cell_type": "code",
   "execution_count": 34,
   "metadata": {},
   "outputs": [],
   "source": [
    "#Vælg nogle rimelige værdier for indgangerne i a, b, c og d, og brug derefter matplotlib til at lave en tegning af robot armen\n",
    "\n",
    "#Laver et array af alle x og y koordinater\n",
    "x = np.array([0.0, 0.5, 1.0, 1.1, 1.05])\n",
    "y = np.array([0.0, 1.5, 1.6, 1.4, 1.3])"
   ]
  },
  {
   "cell_type": "code",
   "execution_count": 50,
   "metadata": {},
   "outputs": [],
   "source": [
    "#Laver vektorne a, b, c og d, ved at delta x og y\n",
    "a = [[x[1] - x[0]], [y[1] - y[0]]]\n",
    "b = [[x[2] - x[1]], [y[2] - y[1]]]\n",
    "c = [[x[3] - x[2]], [y[3] - y[2]]]\n",
    "d = [[x[4] - x[3]], [y[4] - y[3]]]"
   ]
  },
  {
   "cell_type": "code",
   "execution_count": 52,
   "metadata": {},
   "outputs": [],
   "source": [
    "\n",
    "S = [a, b, c, d]"
   ]
  },
  {
   "cell_type": "code",
   "execution_count": 60,
   "metadata": {},
   "outputs": [
    {
     "data": {
      "text/plain": [
       "[<matplotlib.lines.Line2D at 0x28109107890>]"
      ]
     },
     "execution_count": 60,
     "metadata": {},
     "output_type": "execute_result"
    },
    {
     "data": {
      "image/png": "[encoded data removed]",
      "text/plain": [
       "<Figure size 640x480 with 1 Axes>"
      ]
     },
     "metadata": {},
     "output_type": "display_data"
    }
   ],
   "source": [
    "fig, ax = plt.subplots()\n",
    "ax.set_aspect('equal')\n",
    "ax.plot(x,y , marker = \"o\")"
   ]
  },
  {
   "cell_type": "code",
   "execution_count": 66,
   "metadata": {},
   "outputs": [],
   "source": [
    "#Bestem længe af vektoren OP ud fra a, b, c og d\n",
    "\n"
   ]
  }
 ],
 "metadata": {
  "kernelspec": {
   "display_name": "Python 3",
   "language": "python",
   "name": "python3"
  },
  "language_info": {
   "codemirror_mode": {
    "name": "ipython",
    "version": 3
   },
   "file_extension": ".py",
   "mimetype": "text/x-python",
   "name": "python",
   "nbconvert_exporter": "python",
   "pygments_lexer": "ipython3",
   "version": "3.11.1"
  },
  "orig_nbformat": 4,
  "vscode": {
   "interpreter": {
    "hash": "0fcf33d0a3eb679c311eb118274c5a31210524c2d8da40703f890daef8cbaee3"
   }
  }
 },
 "nbformat": 4,
 "nbformat_minor": 2
}
