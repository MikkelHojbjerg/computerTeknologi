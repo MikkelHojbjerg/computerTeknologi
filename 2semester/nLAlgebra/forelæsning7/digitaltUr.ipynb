{
 "cells": [
  {
   "cell_type": "code",
   "execution_count": 3,
   "metadata": {},
   "outputs": [],
   "source": [
    "import matplotlib.pyplot as plt\n",
    "import numpy as np"
   ]
  },
  {
   "cell_type": "code",
   "execution_count": 4,
   "metadata": {},
   "outputs": [
    {
     "data": {
      "text/plain": [
       "array([[1., 0., 1., 1., 0., 1., 1., 1., 1., 1.],\n",
       "       [1., 0., 0., 0., 1., 1., 1., 0., 1., 1.],\n",
       "       [1., 1., 1., 1., 1., 0., 0., 1., 1., 1.],\n",
       "       [0., 0., 1., 1., 1., 1., 1., 0., 1., 1.],\n",
       "       [1., 0., 1., 0., 0., 0., 1., 0., 1., 0.],\n",
       "       [1., 1., 0., 1., 1., 1., 1., 1., 1., 1.],\n",
       "       [1., 0., 1., 1., 0., 1., 1., 0., 1., 1.]])"
      ]
     },
     "execution_count": 4,
     "metadata": {},
     "output_type": "execute_result"
    }
   ],
   "source": [
    "v = np.empty((7, 10), dtype = float)\n",
    "\n",
    "v[: ,0] = np.array([1, 1, 1, 0, 1, 1, 1])\n",
    "v[: ,1] = np.array([0, 0, 1, 0, 0, 1, 0])\n",
    "v[: ,2] = np.array([1, 0, 1, 1, 1, 0, 1])\n",
    "v[: ,3] = np.array([1, 0, 1, 1, 0, 1, 1])\n",
    "v[: ,4] = np.array([0, 1, 1, 1, 0, 1, 0])\n",
    "v[: ,5] = np.array([1, 1, 0, 1, 0, 1, 1])\n",
    "v[: ,6] = np.array([1, 1, 0, 1, 1, 1, 1])\n",
    "v[: ,7] = np.array([1, 0, 1, 0, 0, 1, 0])\n",
    "v[: ,8] = np.array([1, 1, 1, 1, 1, 1, 1])\n",
    "v[: ,9] = np.array([1, 1, 1, 1, 0, 1, 1])\n",
    "v\n"
   ]
  },
  {
   "cell_type": "code",
   "execution_count": 5,
   "metadata": {},
   "outputs": [
    {
     "data": {
      "text/plain": [
       "array([[1.],\n",
       "       [0.],\n",
       "       [0.],\n",
       "       [1.],\n",
       "       [0.],\n",
       "       [1.],\n",
       "       [1.]])"
      ]
     },
     "execution_count": 5,
     "metadata": {},
     "output_type": "execute_result"
    }
   ],
   "source": [
    "u = np.array([1, 0, 0, 1, 0, 1, 1], dtype = float) [:, np.newaxis]\n",
    "u"
   ]
  },
  {
   "cell_type": "code",
   "execution_count": 6,
   "metadata": {},
   "outputs": [
    {
     "data": {
      "text/plain": [
       "array([[3.]])"
      ]
     },
     "execution_count": 6,
     "metadata": {},
     "output_type": "execute_result"
    }
   ],
   "source": [
    "#indre produkt af sølje 0 i v med u\n",
    "v[:, [0]].T @ u "
   ]
  },
  {
   "cell_type": "code",
   "execution_count": 7,
   "metadata": {},
   "outputs": [
    {
     "data": {
      "text/plain": [
       "array([[4.]])"
      ]
     },
     "execution_count": 7,
     "metadata": {},
     "output_type": "execute_result"
    }
   ],
   "source": [
    "v[:, [8]].T @ u"
   ]
  },
  {
   "cell_type": "code",
   "execution_count": 8,
   "metadata": {},
   "outputs": [
    {
     "data": {
      "text/plain": [
       "(10, 7)"
      ]
     },
     "execution_count": 8,
     "metadata": {},
     "output_type": "execute_result"
    }
   ],
   "source": [
    "(v.T).shape"
   ]
  },
  {
   "cell_type": "code",
   "execution_count": 9,
   "metadata": {},
   "outputs": [
    {
     "data": {
      "text/plain": [
       "array([[3.],\n",
       "       [1.],\n",
       "       [3.],\n",
       "       [4.],\n",
       "       [2.],\n",
       "       [4.],\n",
       "       [4.],\n",
       "       [2.],\n",
       "       [4.],\n",
       "       [4.]])"
      ]
     },
     "execution_count": 9,
     "metadata": {},
     "output_type": "execute_result"
    }
   ],
   "source": [
    "#indre produkter af alle søljer i v med u\n",
    "v.T @ u"
   ]
  },
  {
   "cell_type": "code",
   "execution_count": 10,
   "metadata": {},
   "outputs": [
    {
     "data": {
      "text/plain": [
       "array([[0.40824829, 0.        , 0.4472136 , 0.4472136 , 0.        ,\n",
       "        0.4472136 , 0.40824829, 0.57735027, 0.37796447, 0.40824829],\n",
       "       [0.40824829, 0.        , 0.        , 0.        , 0.5       ,\n",
       "        0.4472136 , 0.40824829, 0.        , 0.37796447, 0.40824829],\n",
       "       [0.40824829, 0.70710678, 0.4472136 , 0.4472136 , 0.5       ,\n",
       "        0.        , 0.        , 0.57735027, 0.37796447, 0.40824829],\n",
       "       [0.        , 0.        , 0.4472136 , 0.4472136 , 0.5       ,\n",
       "        0.4472136 , 0.40824829, 0.        , 0.37796447, 0.40824829],\n",
       "       [0.40824829, 0.        , 0.4472136 , 0.        , 0.        ,\n",
       "        0.        , 0.40824829, 0.        , 0.37796447, 0.        ],\n",
       "       [0.40824829, 0.70710678, 0.        , 0.4472136 , 0.5       ,\n",
       "        0.4472136 , 0.40824829, 0.57735027, 0.37796447, 0.40824829],\n",
       "       [0.40824829, 0.        , 0.4472136 , 0.4472136 , 0.        ,\n",
       "        0.4472136 , 0.40824829, 0.        , 0.37796447, 0.40824829]])"
      ]
     },
     "execution_count": 10,
     "metadata": {},
     "output_type": "execute_result"
    }
   ],
   "source": [
    "v_normaliseret = np.empty_like(v)\n",
    "for i in range(10):\n",
    "    v_normaliseret[:, [i]] = v[:, [i]] / np.linalg.norm(v[:, [i]])\n",
    "v_normaliseret"
   ]
  },
  {
   "cell_type": "code",
   "execution_count": 11,
   "metadata": {},
   "outputs": [
    {
     "data": {
      "text/plain": [
       "array([[0.5],\n",
       "       [0. ],\n",
       "       [0. ],\n",
       "       [0.5],\n",
       "       [0. ],\n",
       "       [0.5],\n",
       "       [0.5]])"
      ]
     },
     "execution_count": 11,
     "metadata": {},
     "output_type": "execute_result"
    }
   ],
   "source": [
    "u_normaliseret = u / np.linalg.norm(u)\n",
    "u_normaliseret"
   ]
  },
  {
   "cell_type": "code",
   "execution_count": 12,
   "metadata": {},
   "outputs": [
    {
     "data": {
      "text/plain": [
       "array([[0.40824829, 0.        , 0.4472136 , 0.4472136 , 0.        ,\n",
       "        0.4472136 , 0.40824829, 0.57735027, 0.37796447, 0.40824829],\n",
       "       [0.40824829, 0.        , 0.        , 0.        , 0.5       ,\n",
       "        0.4472136 , 0.40824829, 0.        , 0.37796447, 0.40824829],\n",
       "       [0.40824829, 0.70710678, 0.4472136 , 0.4472136 , 0.5       ,\n",
       "        0.        , 0.        , 0.57735027, 0.37796447, 0.40824829],\n",
       "       [0.        , 0.        , 0.4472136 , 0.4472136 , 0.5       ,\n",
       "        0.4472136 , 0.40824829, 0.        , 0.37796447, 0.40824829],\n",
       "       [0.40824829, 0.        , 0.4472136 , 0.        , 0.        ,\n",
       "        0.        , 0.40824829, 0.        , 0.37796447, 0.        ],\n",
       "       [0.40824829, 0.70710678, 0.        , 0.4472136 , 0.5       ,\n",
       "        0.4472136 , 0.40824829, 0.57735027, 0.37796447, 0.40824829],\n",
       "       [0.40824829, 0.        , 0.4472136 , 0.4472136 , 0.        ,\n",
       "        0.4472136 , 0.40824829, 0.        , 0.37796447, 0.40824829]])"
      ]
     },
     "execution_count": 12,
     "metadata": {},
     "output_type": "execute_result"
    }
   ],
   "source": [
    "v_normaliseret"
   ]
  },
  {
   "cell_type": "code",
   "execution_count": 14,
   "metadata": {},
   "outputs": [
    {
     "data": {
      "text/plain": [
       "array([[0.61237244],\n",
       "       [0.35355339],\n",
       "       [0.67082039],\n",
       "       [0.89442719],\n",
       "       [0.5       ],\n",
       "       [0.89442719],\n",
       "       [0.81649658],\n",
       "       [0.57735027],\n",
       "       [0.75592895],\n",
       "       [0.81649658]])"
      ]
     },
     "execution_count": 14,
     "metadata": {},
     "output_type": "execute_result"
    }
   ],
   "source": [
    "cosines = v_normaliseret.T @ u_normaliseret\n",
    "cosines"
   ]
  },
  {
   "cell_type": "code",
   "execution_count": 16,
   "metadata": {},
   "outputs": [
    {
     "data": {
      "text/plain": [
       "0.8944271909999159"
      ]
     },
     "execution_count": 16,
     "metadata": {},
     "output_type": "execute_result"
    }
   ],
   "source": [
    "cosines.max()"
   ]
  },
  {
   "cell_type": "code",
   "execution_count": 17,
   "metadata": {},
   "outputs": [
    {
     "data": {
      "text/plain": [
       "array([[3, 0],\n",
       "       [5, 0]], dtype=int64)"
      ]
     },
     "execution_count": 17,
     "metadata": {},
     "output_type": "execute_result"
    }
   ],
   "source": [
    "np.argwhere(cosines == cosines.max())"
   ]
  },
  {
   "cell_type": "code",
   "execution_count": 18,
   "metadata": {},
   "outputs": [],
   "source": [
    "a = np.array([1.0, 2.0, 3.0]) [:, np.newaxis]\n",
    "b = np.array([-1.0, 3.0, -4.0]) [:, np.newaxis]"
   ]
  },
  {
   "cell_type": "code",
   "execution_count": 19,
   "metadata": {},
   "outputs": [
    {
     "data": {
      "text/plain": [
       "array([[-7.]])"
      ]
     },
     "execution_count": 19,
     "metadata": {},
     "output_type": "execute_result"
    }
   ],
   "source": [
    "a.T @ b"
   ]
  },
  {
   "cell_type": "code",
   "execution_count": 20,
   "metadata": {},
   "outputs": [
    {
     "data": {
      "text/plain": [
       "-7.0"
      ]
     },
     "execution_count": 20,
     "metadata": {},
     "output_type": "execute_result"
    }
   ],
   "source": [
    "(a.T @ b) [0, 0]"
   ]
  },
  {
   "cell_type": "code",
   "execution_count": 21,
   "metadata": {},
   "outputs": [
    {
     "data": {
      "text/plain": [
       "-7.0"
      ]
     },
     "execution_count": 21,
     "metadata": {},
     "output_type": "execute_result"
    }
   ],
   "source": [
    "np.vdot(a, b)"
   ]
  },
  {
   "cell_type": "code",
   "execution_count": null,
   "metadata": {},
   "outputs": [],
   "source": []
  }
 ],
 "metadata": {
  "kernelspec": {
   "display_name": "base",
   "language": "python",
   "name": "python3"
  },
  "language_info": {
   "codemirror_mode": {
    "name": "ipython",
    "version": 3
   },
   "file_extension": ".py",
   "mimetype": "text/x-python",
   "name": "python",
   "nbconvert_exporter": "python",
   "pygments_lexer": "ipython3",
   "version": "3.9.13"
  },
  "orig_nbformat": 4,
  "vscode": {
   "interpreter": {
    "hash": "86048807f0e955f66b851c9c02ffbaf95706c5ce080d8b7dd1099d223af7ce85"
   }
  }
 },
 "nbformat": 4,
 "nbformat_minor": 2
}
